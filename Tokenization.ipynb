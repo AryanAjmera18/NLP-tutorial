{
 "cells": [
  {
   "cell_type": "code",
   "execution_count": 23,
   "id": "e69b864c",
   "metadata": {},
   "outputs": [],
   "source": [
    "corpus = \"\"\"My name is Aryan Ajmera , I love to code. \n",
    "This is an NLP tutorial\n",
    "\"\"\""
   ]
  },
  {
   "cell_type": "code",
   "execution_count": 24,
   "id": "0ad35d22",
   "metadata": {},
   "outputs": [
    {
     "name": "stdout",
     "output_type": "stream",
     "text": [
      "My name is Aryan Ajmera , I love to code. \n",
      "This is an NLP tutorial\n",
      "\n"
     ]
    }
   ],
   "source": [
    "print(corpus)"
   ]
  },
  {
   "cell_type": "code",
   "execution_count": 25,
   "id": "e5a9e609",
   "metadata": {},
   "outputs": [
    {
     "name": "stderr",
     "output_type": "stream",
     "text": [
      "[nltk_data] Downloading package punkt_tab to\n",
      "[nltk_data]     C:\\Users\\aryan\\AppData\\Roaming\\nltk_data...\n",
      "[nltk_data]   Package punkt_tab is already up-to-date!\n"
     ]
    },
    {
     "data": {
      "text/plain": [
       "True"
      ]
     },
     "execution_count": 25,
     "metadata": {},
     "output_type": "execute_result"
    }
   ],
   "source": [
    "## tokeniztion\n",
    "## paragraph to sentence\n",
    "from nltk.tokenize import sent_tokenize\n",
    "import nltk\n",
    "nltk.download('punkt_tab')\n"
   ]
  },
  {
   "cell_type": "code",
   "execution_count": 27,
   "id": "f0dd34c8",
   "metadata": {},
   "outputs": [
    {
     "name": "stdout",
     "output_type": "stream",
     "text": [
      "['My name is Aryan Ajmera , I love to code.', 'This is an NLP tutorial']\n"
     ]
    }
   ],
   "source": [
    "sen =sent_tokenize(corpus)\n",
    "print(sen)"
   ]
  },
  {
   "cell_type": "code",
   "execution_count": 29,
   "id": "8491766a",
   "metadata": {},
   "outputs": [
    {
     "name": "stdout",
     "output_type": "stream",
     "text": [
      "My name is Aryan Ajmera , I love to code.\n",
      "This is an NLP tutorial\n"
     ]
    }
   ],
   "source": [
    "for sens in sen :\n",
    "    print (sens)"
   ]
  },
  {
   "cell_type": "code",
   "execution_count": 31,
   "id": "dcc269aa",
   "metadata": {},
   "outputs": [],
   "source": [
    "## Tokeniztion\n",
    "## para to words\n",
    "## sentences to words\n",
    "from nltk.tokenize import word_tokenize\n",
    " "
   ]
  },
  {
   "cell_type": "code",
   "execution_count": 32,
   "id": "ee17b085",
   "metadata": {},
   "outputs": [
    {
     "data": {
      "text/plain": [
       "['My',\n",
       " 'name',\n",
       " 'is',\n",
       " 'Aryan',\n",
       " 'Ajmera',\n",
       " ',',\n",
       " 'I',\n",
       " 'love',\n",
       " 'to',\n",
       " 'code',\n",
       " '.',\n",
       " 'This',\n",
       " 'is',\n",
       " 'an',\n",
       " 'NLP',\n",
       " 'tutorial']"
      ]
     },
     "execution_count": 32,
     "metadata": {},
     "output_type": "execute_result"
    }
   ],
   "source": [
    "word_tokenize(corpus)"
   ]
  },
  {
   "cell_type": "code",
   "execution_count": 36,
   "id": "d04bc6d1",
   "metadata": {},
   "outputs": [],
   "source": [
    "from nltk.tokenize import TreebankWordTokenizer\n",
    "tokenizer = TreebankWordTokenizer()"
   ]
  },
  {
   "cell_type": "code",
   "execution_count": 37,
   "id": "6d818c93",
   "metadata": {},
   "outputs": [
    {
     "data": {
      "text/plain": [
       "['My',\n",
       " 'name',\n",
       " 'is',\n",
       " 'Aryan',\n",
       " 'Ajmera',\n",
       " ',',\n",
       " 'I',\n",
       " 'love',\n",
       " 'to',\n",
       " 'code.',\n",
       " 'This',\n",
       " 'is',\n",
       " 'an',\n",
       " 'NLP',\n",
       " 'tutorial']"
      ]
     },
     "execution_count": 37,
     "metadata": {},
     "output_type": "execute_result"
    }
   ],
   "source": [
    "tokenizer.tokenize(corpus)"
   ]
  },
  {
   "cell_type": "code",
   "execution_count": null,
   "id": "2a35d56d",
   "metadata": {},
   "outputs": [],
   "source": []
  }
 ],
 "metadata": {
  "kernelspec": {
   "display_name": "base",
   "language": "python",
   "name": "python3"
  },
  "language_info": {
   "codemirror_mode": {
    "name": "ipython",
    "version": 3
   },
   "file_extension": ".py",
   "mimetype": "text/x-python",
   "name": "python",
   "nbconvert_exporter": "python",
   "pygments_lexer": "ipython3",
   "version": "3.12.7"
  }
 },
 "nbformat": 4,
 "nbformat_minor": 5
}
